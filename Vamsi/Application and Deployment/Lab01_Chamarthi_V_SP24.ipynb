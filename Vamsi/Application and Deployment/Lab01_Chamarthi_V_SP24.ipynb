{
  "nbformat": 4,
  "nbformat_minor": 0,
  "metadata": {
    "colab": {
      "provenance": []
    },
    "kernelspec": {
      "name": "python3",
      "display_name": "Python 3"
    },
    "language_info": {
      "name": "python"
    }
  },
  "cells": [
    {
      "cell_type": "markdown",
      "source": [
        "## Lab Assignment 01\n",
        "\n",
        " ## WARNING!\n",
        " Please note that the questions provided in this assignment are exclusively for your personal use in this course. You are strictly prohibited from distributing, sharing, or publishing these questions in any form or through any medium. This includes, but is not limited to, posting on websites, forums, social media platforms, or sharing with individuals not enrolled in this course. This measure is to ensure the integrity and educational value of the assignment for all students. Thank you for your cooperation and understanding.\n",
        "\n",
        "Dr. Levent Bulut\n",
        "\n",
        "## SUBMISSIONS INSTRUCTIONS:\n",
        "**Google Colab File**: Submit your coding work as a Jupyter notebook file. The file should be named in the following format: \"Lab01_LASTNAME_FIRSTINITIAL_SP24\". For example, if your name is Leo Bulut, the file name should be \"Lab01_Bulut_L_SP24\".\n",
        "\n",
        "**Word Document**: Submit a Word document with the same naming format as above. The Word document should only include your name at the top and your answers to each numbered question. Do not include the questions themselves in the document. Your name should be clearly written at the top of the document.\n",
        "\n",
        "Please be aware that including the questions in your Word document submission will result in a deduction of points. Ensure you adhere to these guidelines for proper submission.\n",
        "\n",
        "## Background\n",
        "* You are being tasked to make sense of bank data.  The dataset in this lab comes from a large financial services firm and includes data from account holders. It focuses on those with home equity lines of credit, auto loans, and other short- to medium-term credit products. The dataset, termed 'BANK01' is a little bit dirty and your job is to clean it.\n",
        "* A key aspect of the data is the target variable, which indicates the total new sales (INT_TGT).\n",
        "\n",
        "## Data Dictionary:\n",
        "#### Target Variable:\n",
        "* **INT_TGT**: New Sales  (Accepts only non-negative numbers, including zero or NA)\n",
        "\n",
        "#### Features:\n",
        "**RFM1**: Average Sales Past Three Years (Accepts only non-negative numbers, including zero or NA)  \n",
        "\n",
        "**RFM2**: Average Sales Lifetime (Accepts only non-negative numbers, including zero or NA)\n",
        "\n",
        "**RFM3**: Average Sales Past Three Years Dir Promo Resp (Accepts only non-negative numbers, including zero or NA)\n",
        "\n",
        "**RFM4**: Last Product Purchase Amount (Accepts only non-negative numbers, including zero or NA)\n",
        "\n",
        "**RFM5**: Count Purchased Past 3 Years (Accepts only non-negative numbers, including zero or NA)\n",
        "\n",
        "**RFM6**: Count Purchased Lifetime (Accepts only non-negative numbers, including zero or NA)\n",
        "\n",
        "**RFM7**: Count Purchased Past 3 Years Dir Promo Resp (Accepts only non-negative numbers, including zero or NA)\n",
        "\n",
        "**RFM8**: Count Purchased Lifetime Dir Promo Resp (Accepts only non-negative numbers, including zero or NA)\n",
        "\n",
        "**RFM9**: Months Since Last Purchase (Accepts only non-negative numbers, including zero or NA)\n",
        "\n",
        "**RFM10**: Count Total Promos Past Year (Accepts only non-negative numbers, including zero or NA)\n",
        "\n",
        "**RFM11**: Count Direct Promos Past Year (Accepts only non-negative numbers, including zero or NA)\n",
        "\n",
        "**RFM12**: Customer Tenure (Accepts only non-negative numbers, including zero or NA)\n",
        "\n",
        "**DEMOG_AGE**: Customer Age Customer Tenure (Accepts only non-negative numbers, including zero or NA. Extremely high age values, anything higher than 130, should be treated as data entry error.)\n",
        "\n",
        "**DEMOG_GENF**: Female Binary (yes/no)\n",
        "\n",
        "**DEMOG_GENM**: Male Binary (yes/no)\n",
        "\n",
        "**DEMOG_HO**: Homeowner Binary (yes/no)\n",
        "\n",
        "**DEMOG_HOMEVAL**: Home Value (Accepts only non-negative numbers, including zero or NA)\n",
        "\n",
        "**DEMOG_INC**: Income (Accepts only non-negative numbers, including zero or NA)\n",
        "\n",
        "**DEMOG_PR**: Percentage retired in the area (Accepts only non-negative numbers including zero or NA. The highest value is 100.)\n"
      ],
      "metadata": {
        "id": "QTRAbgqM6_tM"
      }
    },
    {
      "cell_type": "markdown",
      "source": [
        "# Solve the \"Spoiled cat problem\"!\n",
        "\n",
        "The \"Spoiled Cat Problem\" is a complex challenge in data science, resembling an unpredictable, fickle cat. It involves sophisticated data cleaning and analysis, where datasets display confusing, nonlinear patterns. This long-standing scientific puzzle tests advanced data techniques and remains unsolved, symbolizing a quest for clarity in chaotic data.\n",
        "\n",
        "Well, it turns out that the \"Spoiled Cat Problem\" was actually a made up concept by your professor. It doesn't really exist. But, we might actually have a cat-related issue. The rumor has it, the only original copy of this dataset was left unattended while the person responsible for the the data collection stepped out for coffee. During this time, her mischievous cat, mistaking the computer mouse for a real one, ended up tampering with the dataset. If you don't believe me, you can consult your cat about such a scenario's likelihood! As a result, simple \"Yes\" responses may have turned into \"Yesssssss,\" and numerical entries could have been changed to negative or absurdly high values. So, as you work through the questions, please keep this peculiar situation in mind.\n",
        "\n",
        "\n",
        "\n"
      ],
      "metadata": {
        "id": "Mz6lnAJdReFQ"
      }
    },
    {
      "cell_type": "markdown",
      "source": [
        "## Read data in Google Colab"
      ],
      "metadata": {
        "id": "pH_k8E8hRaAY"
      }
    },
    {
      "cell_type": "code",
      "source": [
        "import pandas as pd\n",
        "\n",
        "# Load the dataset\n",
        "file_path = '/content/bank01-1.csv'\n",
        "data = pd.read_csv(file_path)\n",
        "\n",
        "# Display the data types and check for any mixed types\n",
        "print(data.dtypes)\n",
        "\n",
        "# Display the first few rows for an initial inspection\n",
        "print(data.head())\n"
      ],
      "metadata": {
        "colab": {
          "base_uri": "https://localhost:8080/"
        },
        "id": "sbYPO394Q3gQ",
        "outputId": "b948a516-d7a6-4a6c-873c-c9404ea7bf14"
      },
      "execution_count": 17,
      "outputs": [
        {
          "output_type": "stream",
          "name": "stdout",
          "text": [
            "int_tgt          float64\n",
            "demog_age        float64\n",
            "demog_ho          object\n",
            "demog_homeval     object\n",
            "demog_inc        float64\n",
            "demog_pr           int64\n",
            "rfm1              object\n",
            "rfm2             float64\n",
            "rfm3             float64\n",
            "rfm4             float64\n",
            "rfm5               int64\n",
            "rfm6               int64\n",
            "rfm7               int64\n",
            "rfm8               int64\n",
            "rfm9               int64\n",
            "rfm10              int64\n",
            "rfm11              int64\n",
            "rfm12              int64\n",
            "demog_genf        object\n",
            "demog_genm        object\n",
            "dtype: object\n",
            "   int_tgt  demog_age demog_ho demog_homeval  demog_inc  demog_pr   rfm1  \\\n",
            "0      0.0       42.0       no         90780    66811.0         0    7.4   \n",
            "1      0.0       39.0      yes        191693   101626.0         0   5.14   \n",
            "2      0.0       72.0      yes        141773    54565.0         1  12.75   \n",
            "3      0.0       63.0       no         35283        0.0         1   3.67   \n",
            "4      0.0        NaN       no        500006        0.0        24     15   \n",
            "\n",
            "    rfm2   rfm3  rfm4  rfm5  rfm6  rfm7  rfm8  rfm9  rfm10  rfm11  rfm12  \\\n",
            "0   6.05   6.75  10.0     5    40     4    22     7     28      7    126   \n",
            "1   4.88   5.00   5.0     7     8     6     7    22     12      6     41   \n",
            "2   9.00  14.50  12.0     5    11     3     5    19     14      7     65   \n",
            "3   3.92   3.25  10.0     7    27     5    16     8     13      5    129   \n",
            "4  11.80  15.00  15.0     4    11     3     7    17     15      7     53   \n",
            "\n",
            "  demog_genf demog_genm  \n",
            "0        yes         no  \n",
            "1         no        yes  \n",
            "2         no        yes  \n",
            "3         no        yes  \n",
            "4         no        yes  \n"
          ]
        },
        {
          "output_type": "stream",
          "name": "stderr",
          "text": [
            "<ipython-input-17-72710e311e96>:5: DtypeWarning: Columns (3,6) have mixed types. Specify dtype option on import or set low_memory=False.\n",
            "  data = pd.read_csv(file_path)\n"
          ]
        }
      ]
    },
    {
      "cell_type": "markdown",
      "source": [
        "## Task 1\n",
        "Your task is to conduct a thorough inspection of each variable in the dataset, keeping in mind the expected values outlined in the data dictionary. Without modifying the data, write a summary that highlights any issues you find for each variable. For example, if there are incorrectly entered 'NA' values, numbers that fall outside the expected range, or any other data inconsistencies, please note these in your response to question 1. Conversely, if a variable appears to have no issues with its data entries, simply state that there are no observed issues with that particular variable."
      ],
      "metadata": {
        "id": "W7MUDK5kjsqQ"
      }
    },
    {
      "cell_type": "code",
      "source": [
        "import pandas as pd\n",
        "\n",
        "# Load the dataset\n",
        "data = pd.read_csv('/content/bank01-1.csv')\n",
        "\n",
        "# Define a dictionary to store validation results for each feature\n",
        "validation_results = {}\n",
        "\n",
        "# Columns to check as per your data dictionary\n",
        "features_to_check = ['int_tgt', 'rfm1', 'rfm2', 'rfm3', 'rfm4', 'rfm5', 'rfm6',\n",
        "                     'rfm7', 'rfm8', 'rfm9', 'rfm10', 'rfm11', 'rfm12', 'demog_age',\n",
        "                     'demog_homeval', 'demog_inc', 'demog_pr']\n",
        "\n",
        "# Check each feature for non-negative values, NA, and count of negative values\n",
        "for feature in features_to_check:\n",
        "    # Convert to numeric, with errors coerced to NaN for non-numeric values\n",
        "    numeric_column = pd.to_numeric(data[feature], errors='coerce')\n",
        "\n",
        "    # Count of NA values\n",
        "    has_na = numeric_column.isna().sum()\n",
        "\n",
        "    # Count of negative values\n",
        "    negative_count = (numeric_column < 0).sum()\n",
        "\n",
        "    validation_results[feature] = {\n",
        "        'has_na': has_na,\n",
        "        'negative_count': negative_count\n",
        "    }\n",
        "\n",
        "# Additional checks for specific ranges\n",
        "# Check for 'demog_age' values above 130 (data entry errors)\n",
        "validation_results['demog_age']['above_130'] = (pd.to_numeric(data['demog_age'], errors='coerce') > 130).sum()\n",
        "\n",
        "# Check 'demog_pr' values above 100 (as the highest percentage is 100)\n",
        "validation_results['demog_pr']['above_100'] = (pd.to_numeric(data['demog_pr'], errors='coerce') > 100).sum()\n",
        "\n",
        "# Display results\n",
        "print(validation_results)\n"
      ],
      "metadata": {
        "id": "b39N8L3llYdO",
        "colab": {
          "base_uri": "https://localhost:8080/"
        },
        "outputId": "1126abda-3d3c-4f33-c364-405a8c8e7f03"
      },
      "execution_count": 26,
      "outputs": [
        {
          "output_type": "stream",
          "name": "stdout",
          "text": [
            "{'int_tgt': {'has_na': 0, 'negative_count': 21}, 'rfm1': {'has_na': 3, 'negative_count': 0}, 'rfm2': {'has_na': 0, 'negative_count': 0}, 'rfm3': {'has_na': 9912, 'negative_count': 0}, 'rfm4': {'has_na': 0, 'negative_count': 0}, 'rfm5': {'has_na': 0, 'negative_count': 0}, 'rfm6': {'has_na': 0, 'negative_count': 0}, 'rfm7': {'has_na': 0, 'negative_count': 0}, 'rfm8': {'has_na': 0, 'negative_count': 0}, 'rfm9': {'has_na': 0, 'negative_count': 0}, 'rfm10': {'has_na': 0, 'negative_count': 0}, 'rfm11': {'has_na': 0, 'negative_count': 0}, 'rfm12': {'has_na': 0, 'negative_count': 0}, 'demog_age': {'has_na': 31611, 'negative_count': 3, 'above_130': 2}, 'demog_homeval': {'has_na': 1, 'negative_count': 1}, 'demog_inc': {'has_na': 0, 'negative_count': 0}, 'demog_pr': {'has_na': 0, 'negative_count': 0, 'above_100': 0}}\n"
          ]
        },
        {
          "output_type": "stream",
          "name": "stderr",
          "text": [
            "<ipython-input-26-1c5d9232189b>:4: DtypeWarning: Columns (3,6) have mixed types. Specify dtype option on import or set low_memory=False.\n",
            "  data = pd.read_csv('/content/bank01-1.csv')\n"
          ]
        }
      ]
    },
    {
      "cell_type": "code",
      "source": [
        "\n",
        "# Check for invalid values in demog_genf and demog_genm\n",
        "invalid_genf = data[~data['demog_genf'].isin(['yes', 'no'])]\n",
        "invalid_genm = data[~data['demog_genm'].isin(['yes', 'no'])]\n",
        "invalid_genho = data[~data['demog_ho'].isin(['yes', 'no'])]\n",
        "\n",
        "# Count rows with invalid values\n",
        "invalid_genf_count = len(invalid_genf)\n",
        "invalid_genm_count = len(invalid_genm)\n",
        "invalid_genho_count=len(invalid_genho)\n",
        "# Check for rows where both columns have \"yes\" or both have \"no\"\n",
        "both_yes_or_no = data[(data['demog_genf'] == data['demog_genm'])]\n",
        "\n",
        "# Count rows where both are \"yes\" or both are \"no\"\n",
        "both_yes_or_no_count = len(both_yes_or_no)\n",
        "\n",
        "# Print results\n",
        "print(f\"Invalid entries in 'demog_genf': {invalid_genf_count}\")\n",
        "print(f\"Invalid entries in 'demog_genm': {invalid_genm_count}\")\n",
        "print(f\"Invalid entries in 'demog_genm': {invalid_genho_count}\")\n",
        "print(f\"Rows where both 'demog_genf' and 'demog_genm' are the same: {both_yes_or_no_count}\")\n"
      ],
      "metadata": {
        "colab": {
          "base_uri": "https://localhost:8080/"
        },
        "id": "Sfs9dAfZcN-E",
        "outputId": "1fad6e06-5518-4c48-a3d2-f7733128440d"
      },
      "execution_count": 31,
      "outputs": [
        {
          "output_type": "stream",
          "name": "stdout",
          "text": [
            "Invalid entries in 'demog_genf': 3\n",
            "Invalid entries in 'demog_genm': 4\n",
            "Invalid entries in 'demog_genm': 0\n",
            "Rows where both 'demog_genf' and 'demog_genm' are the same: 0\n"
          ]
        }
      ]
    },
    {
      "cell_type": "markdown",
      "source": [
        "## Task 2\n",
        "\n",
        "Duplicate the original 'bank01' dataset and rename the copy as 'bank_[yourlastname]' (for example, Jane Doe would rename it to 'bank_doe'). Then proceed to make the specified adjustments in your renamed dataset, 'bank_[yourlastname]'\n",
        "\n",
        "\n",
        "* For any data point that falls outside its expected range, label it as missing in the dataset.\n",
        "*  Correct any spelling mistakes you encounter. For example, if the expected values are \"YES\" and \"NO\", but you find variations like \"yes\", \"YESSSS\", or \"YESs\", adjust them all to the standard form, which in this case would be \"YES\".\n",
        "\n",
        "\n",
        "Once you've made the necessary modifications in your dataset, proceed to calculate the number of missing values and the percentage of missing values for each variable. Record your findings in the table provided in the Word document.\n",
        "\n",
        "\n",
        "\n"
      ],
      "metadata": {
        "id": "nWyETPdulyp8"
      }
    },
    {
      "cell_type": "code",
      "source": [
        "import pandas as pd\n",
        "\n",
        "# Load the dataset\n",
        "bank_chamarthi = pd.read_csv(\"bank01-1.csv\", low_memory=False)\n",
        "\n",
        "# Labelling missing in the dataset\n",
        "bank_chamarthi['demog_age'] = bank_chamarthi['demog_age'].apply(lambda x: x if 18 <= x <= 100 else None)\n",
        "bank_chamarthi['demog_inc'] = bank_chamarthi['demog_inc'].apply(lambda x: x if 10000 <= x <= 1000000 else None)\n",
        "bank_chamarthi['demog_pr'] = bank_chamarthi['demog_pr'].apply(lambda x: x if 0 <= x <= 100 else None)\n",
        "\n",
        "# Convert 'demog_homeval' to numeric, invalid values will be set as NaN\n",
        "bank_chamarthi['demog_homeval'] = pd.to_numeric(bank_chamarthi['demog_homeval'], errors='coerce')\n",
        "\n",
        "# Checking for the genders\n",
        "valid_ho_values = ['yes', 'no']\n",
        "bank_chamarthi['demog_ho'] = bank_chamarthi['demog_ho'].str.lower().apply(lambda x: x.upper() if x in valid_ho_values else None)\n",
        "\n",
        "valid_gen_values = ['yes', 'no']  # Assuming 'yes' means female, 'no' means male\n",
        "bank_chamarthi['demog_genf'] = bank_chamarthi['demog_genf'].str.lower().apply(lambda x: 'YES' if x == 'yes' else None)\n",
        "bank_chamarthi['demog_genm'] = bank_chamarthi['demog_genm'].str.lower().apply(lambda x: 'YES' if x == 'yes' else None)\n",
        "\n",
        "# Convert RFM columns to numeric, invalid values will be set as NaN\n",
        "rfm_columns = ['rfm1', 'rfm2', 'rfm3', 'rfm4', 'rfm5', 'rfm6', 'rfm7', 'rfm8', 'rfm9', 'rfm10', 'rfm11', 'rfm12']\n",
        "for col in rfm_columns:\n",
        "    bank_chamarthi[col] = pd.to_numeric(bank_chamarthi[col], errors='coerce')  # Convert to numeric and set invalid to NaN\n",
        "\n",
        "# Apply checks for RFM columns if they are supposed to be within a specific range\n",
        "for col in rfm_columns:\n",
        "    bank_chamarthi[col] = bank_chamarthi[col].apply(lambda x: x if 0 <= x <= 100 else None)\n",
        "\n",
        "# Save the modified dataset\n",
        "bank_chamarthi.to_csv('bank_chamarthi_modified.csv', index=False)\n"
      ],
      "metadata": {
        "id": "Ts8NCjSLjrrW"
      },
      "execution_count": 37,
      "outputs": []
    },
    {
      "cell_type": "markdown",
      "source": [
        "# Task 3:  Imputation of Missing Values\n",
        "\n",
        "\n",
        "Dduplicate and modify the 'bank_[yourlastname]' dataset that you saved during Task 2. This new version of the dataset should be named 'bank_[yourlastname]_revised'. For example, if your last name is 'Doe', the new dataset should be named 'bank_doe_revised'. After creating this duplicate, you are to perform a series of data imputation techniques listed below:\n",
        " * For a numerical column with missing values, use the mean of the column to fill in the gaps.\n",
        "* In the case of a categorical column with missing data, use the mode (most frequent value) for imputation. If there are multiple modes, use the first mode to replace missing values.\n",
        "* Once you have completed the data imputation on the 'bank_[yourlastname]_revised' dataset, your next task is to calculate the descriptive statistics for two specific numerical variables (demog_age and rfm1) and a contingency table between two categorical variables (demog_ho and demog_genf). This step serves as a sanity check to ensure the integrity and reasonableness of your imputed data. Enter your findings in the speficied table in the word document provided.\n",
        "\n",
        "\n"
      ],
      "metadata": {
        "id": "TKKipRRPxBFE"
      }
    },
    {
      "cell_type": "code",
      "source": [
        "import pandas as pd\n",
        "\n",
        "# Load the original dataset (replace with the path to your actual dataset)\n",
        "bank_chamarthi1 = pd.read_csv(\"bank_chamarthi_modified.csv\")\n",
        "\n",
        "# Duplication\n",
        "bank_chamarthi_revised = bank_chamarthi1.copy()\n",
        "\n",
        "\n",
        "# Using the mean for imputation\n",
        "numerical_columns = ['demog_age', 'demog_inc', 'demog_pr', 'demog_homeval'] + \\\n",
        "                    ['rfm1', 'rfm2', 'rfm3', 'rfm4', 'rfm5', 'rfm6', 'rfm7', 'rfm8', 'rfm9', 'rfm10', 'rfm11', 'rfm12']\n",
        "for col in numerical_columns:\n",
        "    mean_value = bank_chamarthi_revised[col].mean()\n",
        "    bank_chamarthi_revised[col].fillna(mean_value, inplace=True)\n",
        "\n",
        "# For categorical columns, use the mode for imputation\n",
        "categorical_columns = ['demog_ho', 'demog_genf', 'demog_genm']\n",
        "for col in categorical_columns:\n",
        "    # Get the mode (most frequent value)\n",
        "    mode_value = bank_chamarthi_revised[col].mode()[0]\n",
        "    bank_chamarthi_revised[col].fillna(mode_value, inplace=True)\n",
        "\n",
        "age_stats = bank_chamarthi_revised['demog_age'].describe()\n",
        "rfm1_stats = bank_chamarthi_revised['rfm1'].describe()\n",
        "\n",
        "contingency_table = pd.crosstab(bank_chamarthi_revised['demog_ho'], bank_chamarthi_revised['demog_genf'])\n",
        "\n",
        "# Print the results\n",
        "print(\"Descriptive Statistics for 'demog_age':\")\n",
        "print(age_stats)\n",
        "print(\"\\nDescriptive Statistics for 'rfm1':\")\n",
        "print(rfm1_stats)\n",
        "print(\"\\nContingency Table for 'demog_ho' and 'demog_genf':\")\n",
        "print(contingency_table)\n",
        "\n",
        "bank_chamarthi_revised.to_csv('bank_chamarthi_revised.csv', index=False)\n"
      ],
      "metadata": {
        "id": "bMUsLnOC64xl",
        "colab": {
          "base_uri": "https://localhost:8080/"
        },
        "outputId": "f75af624-dd7c-409c-bfcd-02b9afd81e4f"
      },
      "execution_count": 39,
      "outputs": [
        {
          "output_type": "stream",
          "name": "stderr",
          "text": [
            "<ipython-input-39-632e93afbc11>:17: FutureWarning: A value is trying to be set on a copy of a DataFrame or Series through chained assignment using an inplace method.\n",
            "The behavior will change in pandas 3.0. This inplace method will never work because the intermediate object on which we are setting values always behaves as a copy.\n",
            "\n",
            "For example, when doing 'df[col].method(value, inplace=True)', try using 'df.method({col: value}, inplace=True)' or df[col] = df[col].method(value) instead, to perform the operation inplace on the original object.\n",
            "\n",
            "\n",
            "  bank_chamarthi_revised[col].fillna(mean_value, inplace=True)\n",
            "<ipython-input-39-632e93afbc11>:24: FutureWarning: A value is trying to be set on a copy of a DataFrame or Series through chained assignment using an inplace method.\n",
            "The behavior will change in pandas 3.0. This inplace method will never work because the intermediate object on which we are setting values always behaves as a copy.\n",
            "\n",
            "For example, when doing 'df[col].method(value, inplace=True)', try using 'df.method({col: value}, inplace=True)' or df[col] = df[col].method(value) instead, to perform the operation inplace on the original object.\n",
            "\n",
            "\n",
            "  bank_chamarthi_revised[col].fillna(mode_value, inplace=True)\n"
          ]
        },
        {
          "output_type": "stream",
          "name": "stdout",
          "text": [
            "Descriptive Statistics for 'demog_age':\n",
            "count    127089.000000\n",
            "mean         61.465494\n",
            "std          13.907886\n",
            "min          18.000000\n",
            "25%          54.000000\n",
            "50%          61.465494\n",
            "75%          72.000000\n",
            "max          89.000000\n",
            "Name: demog_age, dtype: float64\n",
            "\n",
            "Descriptive Statistics for 'rfm1':\n",
            "count    127089.000000\n",
            "mean         11.152152\n",
            "std           7.505955\n",
            "min           0.000000\n",
            "25%           6.500000\n",
            "50%          10.000000\n",
            "75%          13.500000\n",
            "max         100.000000\n",
            "Name: rfm1, dtype: float64\n",
            "\n",
            "Contingency Table for 'demog_ho' and 'demog_genf':\n",
            "demog_genf    YES\n",
            "demog_ho         \n",
            "NO          57349\n",
            "YES         69740\n"
          ]
        }
      ]
    },
    {
      "cell_type": "markdown",
      "source": [
        "# Task 4\n",
        "\n",
        "\n",
        "*   Using Python, calculate the **correlation** between the target variable \"INT_TGT\" and all numeric features in your 'bank_[yourlastname]_revised' dataset. Identify the numeric variable that shows the highest correlation coefficient (in absolute value) with \"INT_TGT\". Then, create a scatter plot in Python to visually represent the relationship between \"INT_TGT\" and this highly correlated numeric variable. After completing your plot, insert it into the left pane of the Word document provided for this assignment.\n",
        "*   Based on the scatter plot you have created, write a brief paragraph discussing your observations. In your analysis, describe the nature of the relationship between the target variable and the numeric variable with the highest correlation coefficient. Is the relationship positive, negative, linear, or non-linear? Provide insights based on the data description and what you can infer from the scatter plot. Your paragraph should offer a clear interpretation of the data visualization, highlighting any notable patterns or trends you observe. Insert your answer to the right pane under Task 4.\n",
        "\n"
      ],
      "metadata": {
        "id": "UCgZt31JwiGL"
      }
    },
    {
      "cell_type": "code",
      "source": [
        "import pandas as pd\n",
        "import matplotlib.pyplot as plt\n",
        "\n",
        "bank_chamarthi_revised = pd.read_csv(\"bank_chamarthi_revised.csv\")\n",
        "numeric_columns = bank_chamarthi_revised.select_dtypes(include=['number']).columns\n",
        "\n",
        "# Calculating  Correlation\n",
        "correlation_matrix = bank_chamarthi_revised[numeric_columns].corr()\n",
        "correlations_with_target = correlation_matrix['int_tgt'].drop('int_tgt')\n",
        "\n",
        "most_correlated_variable = correlations_with_target.abs().idxmax()\n",
        "highest_correlation_value = correlations_with_target[most_correlated_variable]\n",
        "\n",
        "print(f\"The most correlated variable with INT_TGT is '{most_correlated_variable}' with a correlation coefficient of {highest_correlation_value}.\")\n",
        "\n",
        "# Scatter plot to visualize the relationship\n",
        "plt.figure(figsize=(8, 6))\n",
        "plt.scatter(bank_chamarthi_revised['int_tgt'], bank_chamarthi_revised[most_correlated_variable], alpha=0.6)\n",
        "plt.title(f\"Scatter Plot between 'INT_TGT' and '{most_correlated_variable}'\")\n",
        "plt.xlabel('INT_TGT')\n",
        "plt.ylabel(most_correlated_variable)\n",
        "plt.grid(True)\n",
        "plt.show()\n"
      ],
      "metadata": {
        "id": "9LubfP_e-KZE",
        "colab": {
          "base_uri": "https://localhost:8080/",
          "height": 581
        },
        "outputId": "d1b69c28-7b48-4c22-ec61-ac442fd47df1"
      },
      "execution_count": 44,
      "outputs": [
        {
          "output_type": "stream",
          "name": "stdout",
          "text": [
            "The most correlated variable with INT_TGT is 'rfm2' with a correlation coefficient of 0.28320652421174025.\n"
          ]
        },
        {
          "output_type": "display_data",
          "data": {
            "text/plain": [
              "<Figure size 800x600 with 1 Axes>"
            ],
            "image/png": "[encoded data removed]"
          },
          "metadata": {}
        }
      ]
    },
    {
      "cell_type": "markdown",
      "source": [
        "# Task 5: Check for Outliers\n",
        "In this task, you are required to identify outliers in the numerical variables of the 'bank_[yourlastname]_revised' dataset. You will use the Interquartile Range (IQR) method for this purpose. Additionally, you will create box and whisker plots for both the target variable and the numerical variable that shows the highest correlation (in absolute value) with the target variable.\n",
        "* In one approach, outliers are the values that fall below Q1 - 1.5 * IQR or above Q3 + 1.5 * IQR (where Q1 and Q3 are the first and third quartiles, respectively). Identify and list the outliers for each numerical variable and report your findings in the dedicated are in the word document provided. You can  just report the number of outliers detected for each variable.  \n",
        "* Create a box and whisker plot for the target variable in your dataset and insert it intio the word document.\n",
        "* Create a box and whisker plot for the numerical variable which shows the higest correlation (in absolute value) with the target variable and insert it intio the word document.  \n",
        "* What these plots indicate about the distribution of the target variable and the most correlated numerical variable?\n",
        "\n"
      ],
      "metadata": {
        "id": "zPPJXk1cuvHE"
      }
    },
    {
      "cell_type": "code",
      "source": [
        "# If you utilized any coding to answer task 5, please input your code snippets here. Ensure that your codes are error-free when executed.\n",
        "import pandas as pd\n",
        "import matplotlib.pyplot as plt\n",
        "\n",
        "bank_chamarthi_revised = pd.read_csv(\"bank_chamarthi_revised.csv\")\n",
        "\n",
        "numeric_columns = bank_chamarthi_revised.select_dtypes(include=['number']).columns\n",
        "\n",
        "# Identifying outliers using IQR method for each numerical variable\n",
        "outliers = {}\n",
        "for col in numeric_columns:\n",
        "    Q1 = bank_chamarthi_revised[col].quantile(0.25)\n",
        "    Q3 = bank_chamarthi_revised[col].quantile(0.75)\n",
        "    IQR = Q3 - Q1\n",
        "\n",
        "    lower_bound = Q1 - 1.5 * IQR\n",
        "    upper_bound = Q3 + 1.5 * IQR\n",
        "\n",
        "    outliers[col] = bank_chamarthi_revised[(bank_chamarthi_revised[col] < lower_bound) |\n",
        "                                           (bank_chamarthi_revised[col] > upper_bound)].shape[0]\n",
        "\n",
        "for col, count in outliers.items():\n",
        "    print(f\"Number of outliers detected in '{col}': {count}\")\n",
        "\n",
        "# Create a box and whisker plot for the target variable 'int_tgt'\n",
        "plt.figure(figsize=(8, 6))\n",
        "plt.boxplot(bank_chamarthi_revised['int_tgt'], vert=False)\n",
        "plt.title(\"Boxplot of 'INT_TGT'\")\n",
        "plt.xlabel('INT_TGT')\n",
        "plt.grid(True)\n",
        "plt.show()\n",
        "\n",
        "correlation_matrix = bank_chamarthi_revised[numeric_columns].corr()\n",
        "correlations_with_target = correlation_matrix['int_tgt'].drop('int_tgt')\n",
        "most_correlated_variable = correlations_with_target.abs().idxmax()\n",
        "\n",
        "plt.figure(figsize=(8, 6))\n",
        "plt.boxplot(bank_chamarthi_revised[most_correlated_variable], vert=False)\n",
        "plt.title(f\"Boxplot of '{most_correlated_variable}'\")\n",
        "plt.xlabel(most_correlated_variable)\n",
        "plt.grid(True)\n",
        "plt.show()\n"
      ],
      "metadata": {
        "id": "7nE-yeUn-G5h",
        "colab": {
          "base_uri": "https://localhost:8080/",
          "height": 1000
        },
        "outputId": "ac13c0bc-07cf-405b-d777-0b0fb579c41c"
      },
      "execution_count": 45,
      "outputs": [
        {
          "output_type": "stream",
          "name": "stdout",
          "text": [
            "Number of outliers detected in 'int_tgt': 1113\n",
            "Number of outliers detected in 'demog_age': 1092\n",
            "Number of outliers detected in 'demog_homeval': 8449\n",
            "Number of outliers detected in 'demog_inc': 8940\n",
            "Number of outliers detected in 'demog_pr': 6488\n",
            "Number of outliers detected in 'rfm1': 5427\n",
            "Number of outliers detected in 'rfm2': 6533\n",
            "Number of outliers detected in 'rfm3': 6093\n",
            "Number of outliers detected in 'rfm4': 3197\n",
            "Number of outliers detected in 'rfm5': 1493\n",
            "Number of outliers detected in 'rfm6': 5217\n",
            "Number of outliers detected in 'rfm7': 310\n",
            "Number of outliers detected in 'rfm8': 2646\n",
            "Number of outliers detected in 'rfm9': 19625\n",
            "Number of outliers detected in 'rfm10': 24607\n",
            "Number of outliers detected in 'rfm11': 14658\n",
            "Number of outliers detected in 'rfm12': 917\n"
          ]
        },
        {
          "output_type": "display_data",
          "data": {
            "text/plain": [
              "<Figure size 800x600 with 1 Axes>"
            ],
            "image/png": "[encoded data removed]"
          },
          "metadata": {}
        },
        {
          "output_type": "display_data",
          "data": {
            "text/plain": [
              "<Figure size 800x600 with 1 Axes>"
            ],
            "image/png": "[encoded data removed]"
          },
          "metadata": {}
        }
      ]
    }
  ]
}